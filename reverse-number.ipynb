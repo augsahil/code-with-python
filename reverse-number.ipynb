{
 "cells": [
  {
   "cell_type": "code",
   "execution_count": 7,
   "id": "7bad607b-0608-4c2d-8321-e54013a2bf1a",
   "metadata": {},
   "outputs": [
    {
     "name": "stdout",
     "output_type": "stream",
     "text": [
      "9765\n"
     ]
    }
   ],
   "source": [
    "n=5679\n",
    "num = n\n",
    "rev = 0\n",
    "while num > 0:\n",
    "    unit = num % 10\n",
    "    rev = rev*10 + unit\n",
    "    num //= 10\n",
    "print(rev)\n",
    "\n",
    "#this is O(n)"
   ]
  },
  {
   "cell_type": "code",
   "execution_count": 8,
   "id": "455857fd-a1cc-4c70-b21d-ed4d47c31144",
   "metadata": {},
   "outputs": [
    {
     "name": "stdout",
     "output_type": "stream",
     "text": [
      "9865\n"
     ]
    }
   ],
   "source": [
    "n = 5689\n",
    "numstr = str(n)\n",
    "revstr = numstr[::-1]\n",
    "revnum = int(revstr)\n",
    "print(revnum)\n",
    "\n",
    "#this is O(n)"
   ]
  },
  {
   "cell_type": "code",
   "execution_count": 10,
   "id": "341e033e-93e1-41cb-ba4e-44c6b6da1bfc",
   "metadata": {},
   "outputs": [
    {
     "name": "stdout",
     "output_type": "stream",
     "text": [
      "8978\n"
     ]
    }
   ],
   "source": [
    "n = 87980\n",
    "numstr = str(n)\n",
    "numlist = list(numstr)\n",
    "numlist.reverse()\n",
    "revstr = ''.join(numlist)\n",
    "revnum = int(revstr)\n",
    "print(revnum)\n",
    "\n",
    "#this is O(log n)"
   ]
  },
  {
   "cell_type": "code",
   "execution_count": null,
   "id": "1062e7a5-e7f1-45d3-8b9f-d209d9b897ce",
   "metadata": {},
   "outputs": [],
   "source": []
  }
 ],
 "metadata": {
  "kernelspec": {
   "display_name": "Python 3 (ipykernel)",
   "language": "python",
   "name": "python3"
  },
  "language_info": {
   "codemirror_mode": {
    "name": "ipython",
    "version": 3
   },
   "file_extension": ".py",
   "mimetype": "text/x-python",
   "name": "python",
   "nbconvert_exporter": "python",
   "pygments_lexer": "ipython3",
   "version": "3.12.7"
  }
 },
 "nbformat": 4,
 "nbformat_minor": 5
}
