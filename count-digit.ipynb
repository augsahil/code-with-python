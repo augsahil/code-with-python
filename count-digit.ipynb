{
 "cells": [
  {
   "cell_type": "code",
   "execution_count": 5,
   "id": "9245a9c4-f41c-48ab-bf67-3debbe287413",
   "metadata": {},
   "outputs": [
    {
     "name": "stdout",
     "output_type": "stream",
     "text": [
      "5\n"
     ]
    }
   ],
   "source": [
    "n = 46789\n",
    "count=0\n",
    "num = n\n",
    "while num>0:\n",
    "    count += 1\n",
    "    num = num // 10\n",
    "print(count)"
   ]
  },
  {
   "cell_type": "code",
   "execution_count": 6,
   "id": "5ef3108c-d2db-4793-ac8c-6b708b4e84d4",
   "metadata": {},
   "outputs": [
    {
     "name": "stdout",
     "output_type": "stream",
     "text": [
      "3\n"
     ]
    }
   ],
   "source": [
    "from math import *\n",
    "\n",
    "def count_digit(num):\n",
    "    return int(log10(num)+1)\n",
    "\n",
    "print(count_digit(190))"
   ]
  },
  {
   "cell_type": "code",
   "execution_count": null,
   "id": "aec2defb-1fab-42bb-b0ff-ecd2c70dbfe1",
   "metadata": {},
   "outputs": [],
   "source": []
  }
 ],
 "metadata": {
  "kernelspec": {
   "display_name": "Python 3 (ipykernel)",
   "language": "python",
   "name": "python3"
  },
  "language_info": {
   "codemirror_mode": {
    "name": "ipython",
    "version": 3
   },
   "file_extension": ".py",
   "mimetype": "text/x-python",
   "name": "python",
   "nbconvert_exporter": "python",
   "pygments_lexer": "ipython3",
   "version": "3.12.7"
  }
 },
 "nbformat": 4,
 "nbformat_minor": 5
}
